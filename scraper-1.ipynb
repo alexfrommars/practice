{
 "cells": [
  {
   "cell_type": "markdown",
   "metadata": {},
   "source": [
    "We need to train our skillset."
   ]
  },
  {
   "cell_type": "code",
   "execution_count": null,
   "metadata": {},
   "outputs": [],
   "source": [
    "!pip install pandas\n",
    "!pip install yfinance"
   ]
  },
  {
   "cell_type": "code",
   "execution_count": null,
   "metadata": {},
   "outputs": [],
   "source": [
    "import csv\n",
    "import pandas as pd \n",
    "# Import yfinance\n",
    "import yfinance as yf\n",
    "import matplotlib for plotting\n",
    "import matplotlib.pyplot as plt\n",
    "%matplotlib inline"
   ]
  },
  {
   "cell_type": "code",
   "execution_count": null,
   "metadata": {},
   "outputs": [],
   "source": [
    "# Set the ticker as MSFT\n",
    "msft = yf.Ticker(\"MSFT\")"
   ]
  },
  {
   "cell_type": "code",
   "execution_count": null,
   "metadata": {},
   "outputs": [],
   "source": [
    "# get price to book\n",
    "pb = msft.info['priceToBook']\n",
    "pe = msft.info['regularMarketPrice']/msft.info['trailingEps']\n",
    "print('Price to Book Ratio is: %.2f' % pb)\n",
    "print('Price to Earnings Ratio is: %.2f' % pe)"
   ]
  },
  {
   "cell_type": "code",
   "execution_count": null,
   "metadata": {},
   "outputs": [],
   "source": [
    "# show revenues\n",
    "revenue = msft.financials.loc['Total Revenue']\n",
    "plt.bar(revenue.index, revenue.values)\n",
    "plt.ylabel(\"Total Revenues\")\n",
    "plt.show()"
   ]
  },
  {
   "cell_type": "code",
   "execution_count": null,
   "metadata": {},
   "outputs": [],
   "source": [
    "EBIT = msft.financials.loc['Earnings Before Interest and Taxes']\n",
    "plt.bar(EBIT.index, EBIT.values)\n",
    "plt.ylabel(\"EBIT\")\n",
    "plt.show()"
   ]
  },
  {
   "cell_type": "code",
   "execution_count": null,
   "metadata": {},
   "outputs": [],
   "source": [
    "# show income statement\n",
    "msft.financials\n",
    "# show balance heet\n",
    "msft.balance_sheet\n",
    "# show cashflow\n",
    "msft.cashflow\n",
    "# show other info\n",
    "msft.info"
   ]
  }
 ],
 "metadata": {
  "kernelspec": {
   "display_name": "Python 3.7.6 64-bit ('3.7.6')",
   "language": "python",
   "name": "python3"
  },
  "language_info": {
   "codemirror_mode": {
    "name": "ipython",
    "version": 3
   },
   "file_extension": ".py",
   "mimetype": "text/x-python",
   "name": "python",
   "nbconvert_exporter": "python",
   "pygments_lexer": "ipython3",
   "version": "3.7.6"
  },
  "orig_nbformat": 4,
  "vscode": {
   "interpreter": {
    "hash": "061209cff1ed114f36852c2d7bcf882c4cacbcee3cf7ab46961b8757b6e56c9e"
   }
  }
 },
 "nbformat": 4,
 "nbformat_minor": 2
}
